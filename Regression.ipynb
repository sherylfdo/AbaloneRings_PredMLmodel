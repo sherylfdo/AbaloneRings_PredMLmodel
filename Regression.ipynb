{
 "cells": [
  {
   "cell_type": "code",
   "execution_count": 1,
   "id": "04e0d9c7",
   "metadata": {},
   "outputs": [],
   "source": [
    "%matplotlib inline"
   ]
  },
  {
   "cell_type": "code",
   "execution_count": 2,
   "id": "3a9d9f0a",
   "metadata": {},
   "outputs": [],
   "source": [
    "import pandas as pd"
   ]
  },
  {
   "cell_type": "code",
   "execution_count": 3,
   "id": "3e184a4f",
   "metadata": {},
   "outputs": [],
   "source": [
    "df=pd.read_csv(\"abalone.csv\")"
   ]
  },
  {
   "cell_type": "code",
   "execution_count": 4,
   "id": "eca2ee4f",
   "metadata": {},
   "outputs": [
    {
     "data": {
      "text/html": [
       "<div>\n",
       "<style scoped>\n",
       "    .dataframe tbody tr th:only-of-type {\n",
       "        vertical-align: middle;\n",
       "    }\n",
       "\n",
       "    .dataframe tbody tr th {\n",
       "        vertical-align: top;\n",
       "    }\n",
       "\n",
       "    .dataframe thead th {\n",
       "        text-align: right;\n",
       "    }\n",
       "</style>\n",
       "<table border=\"1\" class=\"dataframe\">\n",
       "  <thead>\n",
       "    <tr style=\"text-align: right;\">\n",
       "      <th></th>\n",
       "      <th>Sex</th>\n",
       "      <th>Length</th>\n",
       "      <th>Diameter</th>\n",
       "      <th>Height</th>\n",
       "      <th>Whole weight</th>\n",
       "      <th>Shucked weight</th>\n",
       "      <th>Viscera weight</th>\n",
       "      <th>Shell weight</th>\n",
       "      <th>Rings</th>\n",
       "    </tr>\n",
       "  </thead>\n",
       "  <tbody>\n",
       "    <tr>\n",
       "      <th>0</th>\n",
       "      <td>M</td>\n",
       "      <td>0.455</td>\n",
       "      <td>0.365</td>\n",
       "      <td>0.095</td>\n",
       "      <td>0.5140</td>\n",
       "      <td>0.2245</td>\n",
       "      <td>0.1010</td>\n",
       "      <td>0.1500</td>\n",
       "      <td>15</td>\n",
       "    </tr>\n",
       "    <tr>\n",
       "      <th>1</th>\n",
       "      <td>M</td>\n",
       "      <td>0.350</td>\n",
       "      <td>0.265</td>\n",
       "      <td>0.090</td>\n",
       "      <td>0.2255</td>\n",
       "      <td>0.0995</td>\n",
       "      <td>0.0485</td>\n",
       "      <td>0.0700</td>\n",
       "      <td>7</td>\n",
       "    </tr>\n",
       "    <tr>\n",
       "      <th>2</th>\n",
       "      <td>F</td>\n",
       "      <td>0.530</td>\n",
       "      <td>0.420</td>\n",
       "      <td>0.135</td>\n",
       "      <td>0.6770</td>\n",
       "      <td>0.2565</td>\n",
       "      <td>0.1415</td>\n",
       "      <td>0.2100</td>\n",
       "      <td>9</td>\n",
       "    </tr>\n",
       "    <tr>\n",
       "      <th>3</th>\n",
       "      <td>M</td>\n",
       "      <td>0.440</td>\n",
       "      <td>0.365</td>\n",
       "      <td>0.125</td>\n",
       "      <td>0.5160</td>\n",
       "      <td>0.2155</td>\n",
       "      <td>0.1140</td>\n",
       "      <td>0.1550</td>\n",
       "      <td>10</td>\n",
       "    </tr>\n",
       "    <tr>\n",
       "      <th>4</th>\n",
       "      <td>I</td>\n",
       "      <td>0.330</td>\n",
       "      <td>0.255</td>\n",
       "      <td>0.080</td>\n",
       "      <td>0.2050</td>\n",
       "      <td>0.0895</td>\n",
       "      <td>0.0395</td>\n",
       "      <td>0.0550</td>\n",
       "      <td>7</td>\n",
       "    </tr>\n",
       "    <tr>\n",
       "      <th>...</th>\n",
       "      <td>...</td>\n",
       "      <td>...</td>\n",
       "      <td>...</td>\n",
       "      <td>...</td>\n",
       "      <td>...</td>\n",
       "      <td>...</td>\n",
       "      <td>...</td>\n",
       "      <td>...</td>\n",
       "      <td>...</td>\n",
       "    </tr>\n",
       "    <tr>\n",
       "      <th>4172</th>\n",
       "      <td>F</td>\n",
       "      <td>0.565</td>\n",
       "      <td>0.450</td>\n",
       "      <td>0.165</td>\n",
       "      <td>0.8870</td>\n",
       "      <td>0.3700</td>\n",
       "      <td>0.2390</td>\n",
       "      <td>0.2490</td>\n",
       "      <td>11</td>\n",
       "    </tr>\n",
       "    <tr>\n",
       "      <th>4173</th>\n",
       "      <td>M</td>\n",
       "      <td>0.590</td>\n",
       "      <td>0.440</td>\n",
       "      <td>0.135</td>\n",
       "      <td>0.9660</td>\n",
       "      <td>0.4390</td>\n",
       "      <td>0.2145</td>\n",
       "      <td>0.2605</td>\n",
       "      <td>10</td>\n",
       "    </tr>\n",
       "    <tr>\n",
       "      <th>4174</th>\n",
       "      <td>M</td>\n",
       "      <td>0.600</td>\n",
       "      <td>0.475</td>\n",
       "      <td>0.205</td>\n",
       "      <td>1.1760</td>\n",
       "      <td>0.5255</td>\n",
       "      <td>0.2875</td>\n",
       "      <td>0.3080</td>\n",
       "      <td>9</td>\n",
       "    </tr>\n",
       "    <tr>\n",
       "      <th>4175</th>\n",
       "      <td>F</td>\n",
       "      <td>0.625</td>\n",
       "      <td>0.485</td>\n",
       "      <td>0.150</td>\n",
       "      <td>1.0945</td>\n",
       "      <td>0.5310</td>\n",
       "      <td>0.2610</td>\n",
       "      <td>0.2960</td>\n",
       "      <td>10</td>\n",
       "    </tr>\n",
       "    <tr>\n",
       "      <th>4176</th>\n",
       "      <td>M</td>\n",
       "      <td>0.710</td>\n",
       "      <td>0.555</td>\n",
       "      <td>0.195</td>\n",
       "      <td>1.9485</td>\n",
       "      <td>0.9455</td>\n",
       "      <td>0.3765</td>\n",
       "      <td>0.4950</td>\n",
       "      <td>12</td>\n",
       "    </tr>\n",
       "  </tbody>\n",
       "</table>\n",
       "<p>4177 rows × 9 columns</p>\n",
       "</div>"
      ],
      "text/plain": [
       "     Sex  Length  Diameter  Height  Whole weight  Shucked weight  \\\n",
       "0      M   0.455     0.365   0.095        0.5140          0.2245   \n",
       "1      M   0.350     0.265   0.090        0.2255          0.0995   \n",
       "2      F   0.530     0.420   0.135        0.6770          0.2565   \n",
       "3      M   0.440     0.365   0.125        0.5160          0.2155   \n",
       "4      I   0.330     0.255   0.080        0.2050          0.0895   \n",
       "...   ..     ...       ...     ...           ...             ...   \n",
       "4172   F   0.565     0.450   0.165        0.8870          0.3700   \n",
       "4173   M   0.590     0.440   0.135        0.9660          0.4390   \n",
       "4174   M   0.600     0.475   0.205        1.1760          0.5255   \n",
       "4175   F   0.625     0.485   0.150        1.0945          0.5310   \n",
       "4176   M   0.710     0.555   0.195        1.9485          0.9455   \n",
       "\n",
       "      Viscera weight  Shell weight  Rings  \n",
       "0             0.1010        0.1500     15  \n",
       "1             0.0485        0.0700      7  \n",
       "2             0.1415        0.2100      9  \n",
       "3             0.1140        0.1550     10  \n",
       "4             0.0395        0.0550      7  \n",
       "...              ...           ...    ...  \n",
       "4172          0.2390        0.2490     11  \n",
       "4173          0.2145        0.2605     10  \n",
       "4174          0.2875        0.3080      9  \n",
       "4175          0.2610        0.2960     10  \n",
       "4176          0.3765        0.4950     12  \n",
       "\n",
       "[4177 rows x 9 columns]"
      ]
     },
     "execution_count": 4,
     "metadata": {},
     "output_type": "execute_result"
    }
   ],
   "source": [
    "df"
   ]
  },
  {
   "cell_type": "code",
   "execution_count": 5,
   "id": "cec31f4a",
   "metadata": {},
   "outputs": [
    {
     "data": {
      "text/plain": [
       "(4177, 9)"
      ]
     },
     "execution_count": 5,
     "metadata": {},
     "output_type": "execute_result"
    }
   ],
   "source": [
    "df.shape"
   ]
  },
  {
   "cell_type": "code",
   "execution_count": 6,
   "id": "43f209e5",
   "metadata": {},
   "outputs": [
    {
     "name": "stdout",
     "output_type": "stream",
     "text": [
      "<class 'pandas.core.frame.DataFrame'>\n",
      "RangeIndex: 4177 entries, 0 to 4176\n",
      "Data columns (total 9 columns):\n",
      " #   Column          Non-Null Count  Dtype  \n",
      "---  ------          --------------  -----  \n",
      " 0   Sex             4177 non-null   object \n",
      " 1   Length          4177 non-null   float64\n",
      " 2   Diameter        4177 non-null   float64\n",
      " 3   Height          4177 non-null   float64\n",
      " 4   Whole weight    4177 non-null   float64\n",
      " 5   Shucked weight  4177 non-null   float64\n",
      " 6   Viscera weight  4177 non-null   float64\n",
      " 7   Shell weight    4177 non-null   float64\n",
      " 8   Rings           4177 non-null   int64  \n",
      "dtypes: float64(7), int64(1), object(1)\n",
      "memory usage: 293.8+ KB\n"
     ]
    }
   ],
   "source": [
    "df.info()"
   ]
  },
  {
   "cell_type": "code",
   "execution_count": 7,
   "id": "d69345fd",
   "metadata": {},
   "outputs": [
    {
     "data": {
      "text/html": [
       "<div>\n",
       "<style scoped>\n",
       "    .dataframe tbody tr th:only-of-type {\n",
       "        vertical-align: middle;\n",
       "    }\n",
       "\n",
       "    .dataframe tbody tr th {\n",
       "        vertical-align: top;\n",
       "    }\n",
       "\n",
       "    .dataframe thead th {\n",
       "        text-align: right;\n",
       "    }\n",
       "</style>\n",
       "<table border=\"1\" class=\"dataframe\">\n",
       "  <thead>\n",
       "    <tr style=\"text-align: right;\">\n",
       "      <th></th>\n",
       "      <th>Length</th>\n",
       "      <th>Diameter</th>\n",
       "      <th>Height</th>\n",
       "      <th>Whole weight</th>\n",
       "      <th>Shucked weight</th>\n",
       "      <th>Viscera weight</th>\n",
       "      <th>Shell weight</th>\n",
       "      <th>Rings</th>\n",
       "    </tr>\n",
       "  </thead>\n",
       "  <tbody>\n",
       "    <tr>\n",
       "      <th>count</th>\n",
       "      <td>4177.000000</td>\n",
       "      <td>4177.000000</td>\n",
       "      <td>4177.000000</td>\n",
       "      <td>4177.000000</td>\n",
       "      <td>4177.000000</td>\n",
       "      <td>4177.000000</td>\n",
       "      <td>4177.000000</td>\n",
       "      <td>4177.000000</td>\n",
       "    </tr>\n",
       "    <tr>\n",
       "      <th>mean</th>\n",
       "      <td>0.523992</td>\n",
       "      <td>0.407881</td>\n",
       "      <td>0.139516</td>\n",
       "      <td>0.828742</td>\n",
       "      <td>0.359367</td>\n",
       "      <td>0.180594</td>\n",
       "      <td>0.238831</td>\n",
       "      <td>9.933684</td>\n",
       "    </tr>\n",
       "    <tr>\n",
       "      <th>std</th>\n",
       "      <td>0.120093</td>\n",
       "      <td>0.099240</td>\n",
       "      <td>0.041827</td>\n",
       "      <td>0.490389</td>\n",
       "      <td>0.221963</td>\n",
       "      <td>0.109614</td>\n",
       "      <td>0.139203</td>\n",
       "      <td>3.224169</td>\n",
       "    </tr>\n",
       "    <tr>\n",
       "      <th>min</th>\n",
       "      <td>0.075000</td>\n",
       "      <td>0.055000</td>\n",
       "      <td>0.000000</td>\n",
       "      <td>0.002000</td>\n",
       "      <td>0.001000</td>\n",
       "      <td>0.000500</td>\n",
       "      <td>0.001500</td>\n",
       "      <td>1.000000</td>\n",
       "    </tr>\n",
       "    <tr>\n",
       "      <th>25%</th>\n",
       "      <td>0.450000</td>\n",
       "      <td>0.350000</td>\n",
       "      <td>0.115000</td>\n",
       "      <td>0.441500</td>\n",
       "      <td>0.186000</td>\n",
       "      <td>0.093500</td>\n",
       "      <td>0.130000</td>\n",
       "      <td>8.000000</td>\n",
       "    </tr>\n",
       "    <tr>\n",
       "      <th>50%</th>\n",
       "      <td>0.545000</td>\n",
       "      <td>0.425000</td>\n",
       "      <td>0.140000</td>\n",
       "      <td>0.799500</td>\n",
       "      <td>0.336000</td>\n",
       "      <td>0.171000</td>\n",
       "      <td>0.234000</td>\n",
       "      <td>9.000000</td>\n",
       "    </tr>\n",
       "    <tr>\n",
       "      <th>75%</th>\n",
       "      <td>0.615000</td>\n",
       "      <td>0.480000</td>\n",
       "      <td>0.165000</td>\n",
       "      <td>1.153000</td>\n",
       "      <td>0.502000</td>\n",
       "      <td>0.253000</td>\n",
       "      <td>0.329000</td>\n",
       "      <td>11.000000</td>\n",
       "    </tr>\n",
       "    <tr>\n",
       "      <th>max</th>\n",
       "      <td>0.815000</td>\n",
       "      <td>0.650000</td>\n",
       "      <td>1.130000</td>\n",
       "      <td>2.825500</td>\n",
       "      <td>1.488000</td>\n",
       "      <td>0.760000</td>\n",
       "      <td>1.005000</td>\n",
       "      <td>29.000000</td>\n",
       "    </tr>\n",
       "  </tbody>\n",
       "</table>\n",
       "</div>"
      ],
      "text/plain": [
       "            Length     Diameter       Height  Whole weight  Shucked weight  \\\n",
       "count  4177.000000  4177.000000  4177.000000   4177.000000     4177.000000   \n",
       "mean      0.523992     0.407881     0.139516      0.828742        0.359367   \n",
       "std       0.120093     0.099240     0.041827      0.490389        0.221963   \n",
       "min       0.075000     0.055000     0.000000      0.002000        0.001000   \n",
       "25%       0.450000     0.350000     0.115000      0.441500        0.186000   \n",
       "50%       0.545000     0.425000     0.140000      0.799500        0.336000   \n",
       "75%       0.615000     0.480000     0.165000      1.153000        0.502000   \n",
       "max       0.815000     0.650000     1.130000      2.825500        1.488000   \n",
       "\n",
       "       Viscera weight  Shell weight        Rings  \n",
       "count     4177.000000   4177.000000  4177.000000  \n",
       "mean         0.180594      0.238831     9.933684  \n",
       "std          0.109614      0.139203     3.224169  \n",
       "min          0.000500      0.001500     1.000000  \n",
       "25%          0.093500      0.130000     8.000000  \n",
       "50%          0.171000      0.234000     9.000000  \n",
       "75%          0.253000      0.329000    11.000000  \n",
       "max          0.760000      1.005000    29.000000  "
      ]
     },
     "execution_count": 7,
     "metadata": {},
     "output_type": "execute_result"
    }
   ],
   "source": [
    "df.describe()"
   ]
  },
  {
   "cell_type": "code",
   "execution_count": 8,
   "id": "5c1bbdb5",
   "metadata": {},
   "outputs": [
    {
     "data": {
      "text/plain": [
       "Index(['Length', 'Diameter', 'Height', 'Whole weight', 'Shucked weight',\n",
       "       'Viscera weight', 'Shell weight', 'Rings'],\n",
       "      dtype='object')"
      ]
     },
     "execution_count": 8,
     "metadata": {},
     "output_type": "execute_result"
    }
   ],
   "source": [
    "df.describe().columns"
   ]
  },
  {
   "cell_type": "code",
   "execution_count": 9,
   "id": "ca840a91",
   "metadata": {},
   "outputs": [
    {
     "data": {
      "text/plain": [
       "Index(['Sex', 'Length', 'Diameter', 'Height', 'Whole weight', 'Shucked weight',\n",
       "       'Viscera weight', 'Shell weight', 'Rings'],\n",
       "      dtype='object')"
      ]
     },
     "execution_count": 9,
     "metadata": {},
     "output_type": "execute_result"
    }
   ],
   "source": [
    "df.columns"
   ]
  },
  {
   "cell_type": "code",
   "execution_count": 10,
   "id": "d096c6a9",
   "metadata": {},
   "outputs": [
    {
     "data": {
      "text/html": [
       "<div>\n",
       "<style scoped>\n",
       "    .dataframe tbody tr th:only-of-type {\n",
       "        vertical-align: middle;\n",
       "    }\n",
       "\n",
       "    .dataframe tbody tr th {\n",
       "        vertical-align: top;\n",
       "    }\n",
       "\n",
       "    .dataframe thead th {\n",
       "        text-align: right;\n",
       "    }\n",
       "</style>\n",
       "<table border=\"1\" class=\"dataframe\">\n",
       "  <thead>\n",
       "    <tr style=\"text-align: right;\">\n",
       "      <th></th>\n",
       "      <th>Length</th>\n",
       "      <th>Diameter</th>\n",
       "      <th>Height</th>\n",
       "      <th>Whole weight</th>\n",
       "      <th>Shucked weight</th>\n",
       "      <th>Viscera weight</th>\n",
       "      <th>Shell weight</th>\n",
       "      <th>Rings</th>\n",
       "    </tr>\n",
       "  </thead>\n",
       "  <tbody>\n",
       "    <tr>\n",
       "      <th>Length</th>\n",
       "      <td>1.000000</td>\n",
       "      <td>0.986812</td>\n",
       "      <td>0.827554</td>\n",
       "      <td>0.925261</td>\n",
       "      <td>0.897914</td>\n",
       "      <td>0.903018</td>\n",
       "      <td>0.897706</td>\n",
       "      <td>0.556720</td>\n",
       "    </tr>\n",
       "    <tr>\n",
       "      <th>Diameter</th>\n",
       "      <td>0.986812</td>\n",
       "      <td>1.000000</td>\n",
       "      <td>0.833684</td>\n",
       "      <td>0.925452</td>\n",
       "      <td>0.893162</td>\n",
       "      <td>0.899724</td>\n",
       "      <td>0.905330</td>\n",
       "      <td>0.574660</td>\n",
       "    </tr>\n",
       "    <tr>\n",
       "      <th>Height</th>\n",
       "      <td>0.827554</td>\n",
       "      <td>0.833684</td>\n",
       "      <td>1.000000</td>\n",
       "      <td>0.819221</td>\n",
       "      <td>0.774972</td>\n",
       "      <td>0.798319</td>\n",
       "      <td>0.817338</td>\n",
       "      <td>0.557467</td>\n",
       "    </tr>\n",
       "    <tr>\n",
       "      <th>Whole weight</th>\n",
       "      <td>0.925261</td>\n",
       "      <td>0.925452</td>\n",
       "      <td>0.819221</td>\n",
       "      <td>1.000000</td>\n",
       "      <td>0.969405</td>\n",
       "      <td>0.966375</td>\n",
       "      <td>0.955355</td>\n",
       "      <td>0.540390</td>\n",
       "    </tr>\n",
       "    <tr>\n",
       "      <th>Shucked weight</th>\n",
       "      <td>0.897914</td>\n",
       "      <td>0.893162</td>\n",
       "      <td>0.774972</td>\n",
       "      <td>0.969405</td>\n",
       "      <td>1.000000</td>\n",
       "      <td>0.931961</td>\n",
       "      <td>0.882617</td>\n",
       "      <td>0.420884</td>\n",
       "    </tr>\n",
       "    <tr>\n",
       "      <th>Viscera weight</th>\n",
       "      <td>0.903018</td>\n",
       "      <td>0.899724</td>\n",
       "      <td>0.798319</td>\n",
       "      <td>0.966375</td>\n",
       "      <td>0.931961</td>\n",
       "      <td>1.000000</td>\n",
       "      <td>0.907656</td>\n",
       "      <td>0.503819</td>\n",
       "    </tr>\n",
       "    <tr>\n",
       "      <th>Shell weight</th>\n",
       "      <td>0.897706</td>\n",
       "      <td>0.905330</td>\n",
       "      <td>0.817338</td>\n",
       "      <td>0.955355</td>\n",
       "      <td>0.882617</td>\n",
       "      <td>0.907656</td>\n",
       "      <td>1.000000</td>\n",
       "      <td>0.627574</td>\n",
       "    </tr>\n",
       "    <tr>\n",
       "      <th>Rings</th>\n",
       "      <td>0.556720</td>\n",
       "      <td>0.574660</td>\n",
       "      <td>0.557467</td>\n",
       "      <td>0.540390</td>\n",
       "      <td>0.420884</td>\n",
       "      <td>0.503819</td>\n",
       "      <td>0.627574</td>\n",
       "      <td>1.000000</td>\n",
       "    </tr>\n",
       "  </tbody>\n",
       "</table>\n",
       "</div>"
      ],
      "text/plain": [
       "                  Length  Diameter    Height  Whole weight  Shucked weight  \\\n",
       "Length          1.000000  0.986812  0.827554      0.925261        0.897914   \n",
       "Diameter        0.986812  1.000000  0.833684      0.925452        0.893162   \n",
       "Height          0.827554  0.833684  1.000000      0.819221        0.774972   \n",
       "Whole weight    0.925261  0.925452  0.819221      1.000000        0.969405   \n",
       "Shucked weight  0.897914  0.893162  0.774972      0.969405        1.000000   \n",
       "Viscera weight  0.903018  0.899724  0.798319      0.966375        0.931961   \n",
       "Shell weight    0.897706  0.905330  0.817338      0.955355        0.882617   \n",
       "Rings           0.556720  0.574660  0.557467      0.540390        0.420884   \n",
       "\n",
       "                Viscera weight  Shell weight     Rings  \n",
       "Length                0.903018      0.897706  0.556720  \n",
       "Diameter              0.899724      0.905330  0.574660  \n",
       "Height                0.798319      0.817338  0.557467  \n",
       "Whole weight          0.966375      0.955355  0.540390  \n",
       "Shucked weight        0.931961      0.882617  0.420884  \n",
       "Viscera weight        1.000000      0.907656  0.503819  \n",
       "Shell weight          0.907656      1.000000  0.627574  \n",
       "Rings                 0.503819      0.627574  1.000000  "
      ]
     },
     "execution_count": 10,
     "metadata": {},
     "output_type": "execute_result"
    }
   ],
   "source": [
    "df.corr() #before label encoding"
   ]
  },
  {
   "cell_type": "code",
   "execution_count": 11,
   "id": "fd501ae8",
   "metadata": {},
   "outputs": [
    {
     "data": {
      "text/plain": [
       "<AxesSubplot:>"
      ]
     },
     "execution_count": 11,
     "metadata": {},
     "output_type": "execute_result"
    },
    {
     "data": {
      "image/png": "[encoded data removed]",
      "text/plain": [
       "<Figure size 432x288 with 2 Axes>"
      ]
     },
     "metadata": {
      "needs_background": "light"
     },
     "output_type": "display_data"
    }
   ],
   "source": [
    "import seaborn as sb\n",
    "sb.heatmap(df.corr()) "
   ]
  },
  {
   "cell_type": "code",
   "execution_count": 12,
   "id": "9830af8d",
   "metadata": {},
   "outputs": [],
   "source": [
    "cat_col=list(set(df.columns)-set(df.describe().columns))"
   ]
  },
  {
   "cell_type": "code",
   "execution_count": 13,
   "id": "f4d9f322",
   "metadata": {},
   "outputs": [
    {
     "data": {
      "text/plain": [
       "['Sex']"
      ]
     },
     "execution_count": 13,
     "metadata": {},
     "output_type": "execute_result"
    }
   ],
   "source": [
    "cat_col"
   ]
  },
  {
   "cell_type": "code",
   "execution_count": 14,
   "id": "18c973ce",
   "metadata": {},
   "outputs": [],
   "source": [
    "from sklearn.preprocessing import LabelEncoder"
   ]
  },
  {
   "cell_type": "code",
   "execution_count": 15,
   "id": "2ec1b4f1",
   "metadata": {},
   "outputs": [],
   "source": [
    "for each_cat in cat_col:\n",
    "    le=LabelEncoder()\n",
    "    df[each_cat]=le.fit_transform(df[each_cat])"
   ]
  },
  {
   "cell_type": "code",
   "execution_count": 16,
   "id": "2ea562c3",
   "metadata": {},
   "outputs": [
    {
     "data": {
      "text/html": [
       "<div>\n",
       "<style scoped>\n",
       "    .dataframe tbody tr th:only-of-type {\n",
       "        vertical-align: middle;\n",
       "    }\n",
       "\n",
       "    .dataframe tbody tr th {\n",
       "        vertical-align: top;\n",
       "    }\n",
       "\n",
       "    .dataframe thead th {\n",
       "        text-align: right;\n",
       "    }\n",
       "</style>\n",
       "<table border=\"1\" class=\"dataframe\">\n",
       "  <thead>\n",
       "    <tr style=\"text-align: right;\">\n",
       "      <th></th>\n",
       "      <th>Sex</th>\n",
       "      <th>Length</th>\n",
       "      <th>Diameter</th>\n",
       "      <th>Height</th>\n",
       "      <th>Whole weight</th>\n",
       "      <th>Shucked weight</th>\n",
       "      <th>Viscera weight</th>\n",
       "      <th>Shell weight</th>\n",
       "      <th>Rings</th>\n",
       "    </tr>\n",
       "  </thead>\n",
       "  <tbody>\n",
       "    <tr>\n",
       "      <th>0</th>\n",
       "      <td>2</td>\n",
       "      <td>0.455</td>\n",
       "      <td>0.365</td>\n",
       "      <td>0.095</td>\n",
       "      <td>0.5140</td>\n",
       "      <td>0.2245</td>\n",
       "      <td>0.1010</td>\n",
       "      <td>0.1500</td>\n",
       "      <td>15</td>\n",
       "    </tr>\n",
       "    <tr>\n",
       "      <th>1</th>\n",
       "      <td>2</td>\n",
       "      <td>0.350</td>\n",
       "      <td>0.265</td>\n",
       "      <td>0.090</td>\n",
       "      <td>0.2255</td>\n",
       "      <td>0.0995</td>\n",
       "      <td>0.0485</td>\n",
       "      <td>0.0700</td>\n",
       "      <td>7</td>\n",
       "    </tr>\n",
       "    <tr>\n",
       "      <th>2</th>\n",
       "      <td>0</td>\n",
       "      <td>0.530</td>\n",
       "      <td>0.420</td>\n",
       "      <td>0.135</td>\n",
       "      <td>0.6770</td>\n",
       "      <td>0.2565</td>\n",
       "      <td>0.1415</td>\n",
       "      <td>0.2100</td>\n",
       "      <td>9</td>\n",
       "    </tr>\n",
       "    <tr>\n",
       "      <th>3</th>\n",
       "      <td>2</td>\n",
       "      <td>0.440</td>\n",
       "      <td>0.365</td>\n",
       "      <td>0.125</td>\n",
       "      <td>0.5160</td>\n",
       "      <td>0.2155</td>\n",
       "      <td>0.1140</td>\n",
       "      <td>0.1550</td>\n",
       "      <td>10</td>\n",
       "    </tr>\n",
       "    <tr>\n",
       "      <th>4</th>\n",
       "      <td>1</td>\n",
       "      <td>0.330</td>\n",
       "      <td>0.255</td>\n",
       "      <td>0.080</td>\n",
       "      <td>0.2050</td>\n",
       "      <td>0.0895</td>\n",
       "      <td>0.0395</td>\n",
       "      <td>0.0550</td>\n",
       "      <td>7</td>\n",
       "    </tr>\n",
       "    <tr>\n",
       "      <th>...</th>\n",
       "      <td>...</td>\n",
       "      <td>...</td>\n",
       "      <td>...</td>\n",
       "      <td>...</td>\n",
       "      <td>...</td>\n",
       "      <td>...</td>\n",
       "      <td>...</td>\n",
       "      <td>...</td>\n",
       "      <td>...</td>\n",
       "    </tr>\n",
       "    <tr>\n",
       "      <th>4172</th>\n",
       "      <td>0</td>\n",
       "      <td>0.565</td>\n",
       "      <td>0.450</td>\n",
       "      <td>0.165</td>\n",
       "      <td>0.8870</td>\n",
       "      <td>0.3700</td>\n",
       "      <td>0.2390</td>\n",
       "      <td>0.2490</td>\n",
       "      <td>11</td>\n",
       "    </tr>\n",
       "    <tr>\n",
       "      <th>4173</th>\n",
       "      <td>2</td>\n",
       "      <td>0.590</td>\n",
       "      <td>0.440</td>\n",
       "      <td>0.135</td>\n",
       "      <td>0.9660</td>\n",
       "      <td>0.4390</td>\n",
       "      <td>0.2145</td>\n",
       "      <td>0.2605</td>\n",
       "      <td>10</td>\n",
       "    </tr>\n",
       "    <tr>\n",
       "      <th>4174</th>\n",
       "      <td>2</td>\n",
       "      <td>0.600</td>\n",
       "      <td>0.475</td>\n",
       "      <td>0.205</td>\n",
       "      <td>1.1760</td>\n",
       "      <td>0.5255</td>\n",
       "      <td>0.2875</td>\n",
       "      <td>0.3080</td>\n",
       "      <td>9</td>\n",
       "    </tr>\n",
       "    <tr>\n",
       "      <th>4175</th>\n",
       "      <td>0</td>\n",
       "      <td>0.625</td>\n",
       "      <td>0.485</td>\n",
       "      <td>0.150</td>\n",
       "      <td>1.0945</td>\n",
       "      <td>0.5310</td>\n",
       "      <td>0.2610</td>\n",
       "      <td>0.2960</td>\n",
       "      <td>10</td>\n",
       "    </tr>\n",
       "    <tr>\n",
       "      <th>4176</th>\n",
       "      <td>2</td>\n",
       "      <td>0.710</td>\n",
       "      <td>0.555</td>\n",
       "      <td>0.195</td>\n",
       "      <td>1.9485</td>\n",
       "      <td>0.9455</td>\n",
       "      <td>0.3765</td>\n",
       "      <td>0.4950</td>\n",
       "      <td>12</td>\n",
       "    </tr>\n",
       "  </tbody>\n",
       "</table>\n",
       "<p>4177 rows × 9 columns</p>\n",
       "</div>"
      ],
      "text/plain": [
       "      Sex  Length  Diameter  Height  Whole weight  Shucked weight  \\\n",
       "0       2   0.455     0.365   0.095        0.5140          0.2245   \n",
       "1       2   0.350     0.265   0.090        0.2255          0.0995   \n",
       "2       0   0.530     0.420   0.135        0.6770          0.2565   \n",
       "3       2   0.440     0.365   0.125        0.5160          0.2155   \n",
       "4       1   0.330     0.255   0.080        0.2050          0.0895   \n",
       "...   ...     ...       ...     ...           ...             ...   \n",
       "4172    0   0.565     0.450   0.165        0.8870          0.3700   \n",
       "4173    2   0.590     0.440   0.135        0.9660          0.4390   \n",
       "4174    2   0.600     0.475   0.205        1.1760          0.5255   \n",
       "4175    0   0.625     0.485   0.150        1.0945          0.5310   \n",
       "4176    2   0.710     0.555   0.195        1.9485          0.9455   \n",
       "\n",
       "      Viscera weight  Shell weight  Rings  \n",
       "0             0.1010        0.1500     15  \n",
       "1             0.0485        0.0700      7  \n",
       "2             0.1415        0.2100      9  \n",
       "3             0.1140        0.1550     10  \n",
       "4             0.0395        0.0550      7  \n",
       "...              ...           ...    ...  \n",
       "4172          0.2390        0.2490     11  \n",
       "4173          0.2145        0.2605     10  \n",
       "4174          0.2875        0.3080      9  \n",
       "4175          0.2610        0.2960     10  \n",
       "4176          0.3765        0.4950     12  \n",
       "\n",
       "[4177 rows x 9 columns]"
      ]
     },
     "execution_count": 16,
     "metadata": {},
     "output_type": "execute_result"
    }
   ],
   "source": [
    "df"
   ]
  },
  {
   "cell_type": "code",
   "execution_count": 17,
   "id": "59117c28",
   "metadata": {},
   "outputs": [
    {
     "data": {
      "text/plain": [
       "2    1528\n",
       "1    1342\n",
       "0    1307\n",
       "Name: Sex, dtype: int64"
      ]
     },
     "execution_count": 17,
     "metadata": {},
     "output_type": "execute_result"
    }
   ],
   "source": [
    "df['Sex'].value_counts()"
   ]
  },
  {
   "cell_type": "code",
   "execution_count": 18,
   "id": "3be18a92",
   "metadata": {},
   "outputs": [
    {
     "data": {
      "text/html": [
       "<div>\n",
       "<style scoped>\n",
       "    .dataframe tbody tr th:only-of-type {\n",
       "        vertical-align: middle;\n",
       "    }\n",
       "\n",
       "    .dataframe tbody tr th {\n",
       "        vertical-align: top;\n",
       "    }\n",
       "\n",
       "    .dataframe thead th {\n",
       "        text-align: right;\n",
       "    }\n",
       "</style>\n",
       "<table border=\"1\" class=\"dataframe\">\n",
       "  <thead>\n",
       "    <tr style=\"text-align: right;\">\n",
       "      <th></th>\n",
       "      <th>Sex</th>\n",
       "      <th>Length</th>\n",
       "      <th>Diameter</th>\n",
       "      <th>Height</th>\n",
       "      <th>Whole weight</th>\n",
       "      <th>Shucked weight</th>\n",
       "      <th>Viscera weight</th>\n",
       "      <th>Shell weight</th>\n",
       "      <th>Rings</th>\n",
       "    </tr>\n",
       "  </thead>\n",
       "  <tbody>\n",
       "    <tr>\n",
       "      <th>Sex</th>\n",
       "      <td>1.000000</td>\n",
       "      <td>-0.036066</td>\n",
       "      <td>-0.038874</td>\n",
       "      <td>-0.042077</td>\n",
       "      <td>-0.021391</td>\n",
       "      <td>-0.001373</td>\n",
       "      <td>-0.032067</td>\n",
       "      <td>-0.034854</td>\n",
       "      <td>-0.034627</td>\n",
       "    </tr>\n",
       "    <tr>\n",
       "      <th>Length</th>\n",
       "      <td>-0.036066</td>\n",
       "      <td>1.000000</td>\n",
       "      <td>0.986812</td>\n",
       "      <td>0.827554</td>\n",
       "      <td>0.925261</td>\n",
       "      <td>0.897914</td>\n",
       "      <td>0.903018</td>\n",
       "      <td>0.897706</td>\n",
       "      <td>0.556720</td>\n",
       "    </tr>\n",
       "    <tr>\n",
       "      <th>Diameter</th>\n",
       "      <td>-0.038874</td>\n",
       "      <td>0.986812</td>\n",
       "      <td>1.000000</td>\n",
       "      <td>0.833684</td>\n",
       "      <td>0.925452</td>\n",
       "      <td>0.893162</td>\n",
       "      <td>0.899724</td>\n",
       "      <td>0.905330</td>\n",
       "      <td>0.574660</td>\n",
       "    </tr>\n",
       "    <tr>\n",
       "      <th>Height</th>\n",
       "      <td>-0.042077</td>\n",
       "      <td>0.827554</td>\n",
       "      <td>0.833684</td>\n",
       "      <td>1.000000</td>\n",
       "      <td>0.819221</td>\n",
       "      <td>0.774972</td>\n",
       "      <td>0.798319</td>\n",
       "      <td>0.817338</td>\n",
       "      <td>0.557467</td>\n",
       "    </tr>\n",
       "    <tr>\n",
       "      <th>Whole weight</th>\n",
       "      <td>-0.021391</td>\n",
       "      <td>0.925261</td>\n",
       "      <td>0.925452</td>\n",
       "      <td>0.819221</td>\n",
       "      <td>1.000000</td>\n",
       "      <td>0.969405</td>\n",
       "      <td>0.966375</td>\n",
       "      <td>0.955355</td>\n",
       "      <td>0.540390</td>\n",
       "    </tr>\n",
       "    <tr>\n",
       "      <th>Shucked weight</th>\n",
       "      <td>-0.001373</td>\n",
       "      <td>0.897914</td>\n",
       "      <td>0.893162</td>\n",
       "      <td>0.774972</td>\n",
       "      <td>0.969405</td>\n",
       "      <td>1.000000</td>\n",
       "      <td>0.931961</td>\n",
       "      <td>0.882617</td>\n",
       "      <td>0.420884</td>\n",
       "    </tr>\n",
       "    <tr>\n",
       "      <th>Viscera weight</th>\n",
       "      <td>-0.032067</td>\n",
       "      <td>0.903018</td>\n",
       "      <td>0.899724</td>\n",
       "      <td>0.798319</td>\n",
       "      <td>0.966375</td>\n",
       "      <td>0.931961</td>\n",
       "      <td>1.000000</td>\n",
       "      <td>0.907656</td>\n",
       "      <td>0.503819</td>\n",
       "    </tr>\n",
       "    <tr>\n",
       "      <th>Shell weight</th>\n",
       "      <td>-0.034854</td>\n",
       "      <td>0.897706</td>\n",
       "      <td>0.905330</td>\n",
       "      <td>0.817338</td>\n",
       "      <td>0.955355</td>\n",
       "      <td>0.882617</td>\n",
       "      <td>0.907656</td>\n",
       "      <td>1.000000</td>\n",
       "      <td>0.627574</td>\n",
       "    </tr>\n",
       "    <tr>\n",
       "      <th>Rings</th>\n",
       "      <td>-0.034627</td>\n",
       "      <td>0.556720</td>\n",
       "      <td>0.574660</td>\n",
       "      <td>0.557467</td>\n",
       "      <td>0.540390</td>\n",
       "      <td>0.420884</td>\n",
       "      <td>0.503819</td>\n",
       "      <td>0.627574</td>\n",
       "      <td>1.000000</td>\n",
       "    </tr>\n",
       "  </tbody>\n",
       "</table>\n",
       "</div>"
      ],
      "text/plain": [
       "                     Sex    Length  Diameter    Height  Whole weight  \\\n",
       "Sex             1.000000 -0.036066 -0.038874 -0.042077     -0.021391   \n",
       "Length         -0.036066  1.000000  0.986812  0.827554      0.925261   \n",
       "Diameter       -0.038874  0.986812  1.000000  0.833684      0.925452   \n",
       "Height         -0.042077  0.827554  0.833684  1.000000      0.819221   \n",
       "Whole weight   -0.021391  0.925261  0.925452  0.819221      1.000000   \n",
       "Shucked weight -0.001373  0.897914  0.893162  0.774972      0.969405   \n",
       "Viscera weight -0.032067  0.903018  0.899724  0.798319      0.966375   \n",
       "Shell weight   -0.034854  0.897706  0.905330  0.817338      0.955355   \n",
       "Rings          -0.034627  0.556720  0.574660  0.557467      0.540390   \n",
       "\n",
       "                Shucked weight  Viscera weight  Shell weight     Rings  \n",
       "Sex                  -0.001373       -0.032067     -0.034854 -0.034627  \n",
       "Length                0.897914        0.903018      0.897706  0.556720  \n",
       "Diameter              0.893162        0.899724      0.905330  0.574660  \n",
       "Height                0.774972        0.798319      0.817338  0.557467  \n",
       "Whole weight          0.969405        0.966375      0.955355  0.540390  \n",
       "Shucked weight        1.000000        0.931961      0.882617  0.420884  \n",
       "Viscera weight        0.931961        1.000000      0.907656  0.503819  \n",
       "Shell weight          0.882617        0.907656      1.000000  0.627574  \n",
       "Rings                 0.420884        0.503819      0.627574  1.000000  "
      ]
     },
     "execution_count": 18,
     "metadata": {},
     "output_type": "execute_result"
    }
   ],
   "source": [
    "df.corr() #after label encoding"
   ]
  },
  {
   "cell_type": "code",
   "execution_count": 19,
   "id": "b2ac09eb",
   "metadata": {},
   "outputs": [
    {
     "data": {
      "text/plain": [
       "<AxesSubplot:>"
      ]
     },
     "execution_count": 19,
     "metadata": {},
     "output_type": "execute_result"
    },
    {
     "data": {
      "image/png": "[encoded data removed]",
      "text/plain": [
       "<Figure size 432x288 with 2 Axes>"
      ]
     },
     "metadata": {
      "needs_background": "light"
     },
     "output_type": "display_data"
    }
   ],
   "source": [
    "import seaborn as sb\n",
    "sb.heatmap(df.corr())"
   ]
  },
  {
   "cell_type": "code",
   "execution_count": 20,
   "id": "bed4f1bd",
   "metadata": {},
   "outputs": [
    {
     "data": {
      "image/png": "[encoded data removed]",
      "text/plain": [
       "<Figure size 1440x720 with 1 Axes>"
      ]
     },
     "metadata": {},
     "output_type": "display_data"
    }
   ],
   "source": [
    "import matplotlib.pyplot as plt\n",
    "import pandas as pd\n",
    "import seaborn as sns\n",
    "from mpl_toolkits.mplot3d import Axes3D\n",
    "\n",
    "\n",
    "sns.set(style = \"darkgrid\")\n",
    "\n",
    "fig = plt.figure(figsize=(20,10))\n",
    "ax = fig.add_subplot(111, projection = '3d')\n",
    "\n",
    "x = df['Sex']\n",
    "y = df['Rings']\n",
    "z = df['Whole weight']\n",
    "\n",
    "ax.set_xlabel(\"Sex\")\n",
    "ax.set_ylabel(\"Rings\")\n",
    "ax.set_zlabel(\"Whole weight\")\n",
    "\n",
    "ax.scatter(x, y, z,c='purple')\n",
    "\n",
    "plt.show()\n",
    "#A 3D projection of Sex, Whole weight and Rings"
   ]
  },
  {
   "cell_type": "code",
   "execution_count": 21,
   "id": "3bc10b47",
   "metadata": {},
   "outputs": [
    {
     "data": {
      "image/png": "[encoded data removed]",
      "text/plain": [
       "<Figure size 432x288 with 1 Axes>"
      ]
     },
     "metadata": {},
     "output_type": "display_data"
    }
   ],
   "source": [
    "import matplotlib.pyplot as plt\n",
    "S = df[\"Sex\"]\n",
    "R = df[\"Rings\"]\n",
    "x=[]\n",
    "y=[]\n",
    "x=list(S)\n",
    "y=list(R)\n",
    "plt.bar(x,y)\n",
    "plt.xlabel('Sex')\n",
    "plt.ylabel('Rings')\n",
    "plt.title('Data')\n",
    "plt.show()\n",
    "#A bar graph of Rings by Sex"
   ]
  },
  {
   "cell_type": "code",
   "execution_count": 22,
   "id": "d440839e",
   "metadata": {},
   "outputs": [],
   "source": [
    "X=df[['Sex','Length','Diameter','Height','Whole weight','Shucked weight','Viscera weight','Shell weight']].values\n",
    "Y=df[['Rings']].values"
   ]
  },
  {
   "cell_type": "code",
   "execution_count": 23,
   "id": "9fbe5f14",
   "metadata": {},
   "outputs": [],
   "source": [
    "from sklearn.model_selection import train_test_split"
   ]
  },
  {
   "cell_type": "code",
   "execution_count": 24,
   "id": "bf244c48",
   "metadata": {},
   "outputs": [],
   "source": [
    "from sklearn.datasets import make_blobs"
   ]
  },
  {
   "cell_type": "code",
   "execution_count": 25,
   "id": "184e5df7",
   "metadata": {},
   "outputs": [],
   "source": [
    "X, Y = make_blobs(n_samples=1000, centers=3, random_state=1)"
   ]
  },
  {
   "cell_type": "code",
   "execution_count": 26,
   "id": "059e975b",
   "metadata": {},
   "outputs": [],
   "source": [
    "X_train,X_test,Y_train,Y_test= train_test_split(X,Y,train_size=0.7)"
   ]
  },
  {
   "cell_type": "code",
   "execution_count": 27,
   "id": "3294a9f5",
   "metadata": {},
   "outputs": [
    {
     "data": {
      "text/plain": [
       "((700, 2), (300, 2), (700,), (300,))"
      ]
     },
     "execution_count": 27,
     "metadata": {},
     "output_type": "execute_result"
    }
   ],
   "source": [
    "X_train.shape,X_test.shape,Y_train.shape,Y_test.shape"
   ]
  },
  {
   "cell_type": "code",
   "execution_count": 28,
   "id": "4b9ed8ee",
   "metadata": {},
   "outputs": [],
   "source": [
    "from sklearn.linear_model import LogisticRegression"
   ]
  },
  {
   "cell_type": "code",
   "execution_count": 29,
   "id": "9857fe58",
   "metadata": {},
   "outputs": [],
   "source": [
    "lr = LogisticRegression()"
   ]
  },
  {
   "cell_type": "code",
   "execution_count": 30,
   "id": "2f96ae0b",
   "metadata": {},
   "outputs": [
    {
     "data": {
      "text/plain": [
       "LogisticRegression()"
      ]
     },
     "execution_count": 30,
     "metadata": {},
     "output_type": "execute_result"
    }
   ],
   "source": [
    "lr.fit(X_train,Y_train)"
   ]
  },
  {
   "cell_type": "code",
   "execution_count": 31,
   "id": "983b3613",
   "metadata": {},
   "outputs": [],
   "source": [
    "Y_pred=lr.predict(X_test)"
   ]
  },
  {
   "cell_type": "code",
   "execution_count": 32,
   "id": "607d5e09",
   "metadata": {},
   "outputs": [
    {
     "data": {
      "text/plain": [
       "array([0, 1, 0, 1, 2, 0, 1, 2, 2, 0, 2, 1, 1, 0, 2, 1, 2, 1, 1, 1, 0, 0,\n",
       "       2, 1, 1, 1, 2, 1, 2, 1, 1, 1, 2, 0, 2, 0, 1, 1, 2, 1, 1, 2, 1, 2,\n",
       "       0, 0, 2, 2, 2, 0, 0, 1, 1, 2, 2, 1, 0, 2, 0, 1, 2, 0, 1, 0, 2, 2,\n",
       "       1, 2, 0, 0, 2, 0, 0, 2, 2, 0, 2, 0, 2, 0, 2, 2, 2, 2, 1, 0, 1, 2,\n",
       "       2, 1, 0, 1, 2, 2, 0, 2, 0, 1, 1, 2, 0, 1, 1, 0, 1, 0, 1, 0, 2, 2,\n",
       "       1, 0, 1, 0, 1, 1, 1, 2, 2, 1, 1, 1, 1, 2, 1, 2, 1, 0, 1, 1, 2, 1,\n",
       "       1, 2, 0, 2, 2, 0, 1, 1, 2, 0, 1, 0, 0, 1, 1, 2, 2, 2, 1, 1, 0, 1,\n",
       "       1, 2, 2, 1, 0, 1, 1, 0, 0, 1, 1, 1, 1, 1, 2, 2, 0, 0, 2, 1, 2, 0,\n",
       "       0, 0, 2, 1, 0, 0, 2, 2, 2, 0, 0, 0, 0, 2, 1, 0, 2, 0, 2, 1, 2, 2,\n",
       "       0, 2, 0, 1, 1, 2, 0, 2, 2, 0, 0, 0, 2, 2, 1, 2, 0, 1, 1, 0, 1, 1,\n",
       "       2, 2, 1, 1, 0, 0, 2, 2, 0, 0, 2, 0, 2, 1, 0, 0, 0, 0, 2, 0, 0, 0,\n",
       "       2, 0, 1, 1, 1, 0, 0, 1, 0, 2, 1, 2, 2, 0, 1, 1, 2, 1, 1, 2, 0, 1,\n",
       "       2, 0, 0, 0, 1, 1, 1, 2, 2, 1, 2, 2, 2, 0, 2, 0, 0, 2, 2, 1, 1, 2,\n",
       "       0, 1, 2, 1, 2, 2, 0, 1, 2, 0, 2, 0, 2, 1])"
      ]
     },
     "execution_count": 32,
     "metadata": {},
     "output_type": "execute_result"
    }
   ],
   "source": [
    "Y_pred"
   ]
  },
  {
   "cell_type": "code",
   "execution_count": 33,
   "id": "64619b9d",
   "metadata": {},
   "outputs": [
    {
     "data": {
      "text/plain": [
       "array([0, 1, 0, 1, 2, 0, 1, 2, 2, 0, 2, 1, 1, 0, 2, 1, 2, 1, 1, 1, 0, 0,\n",
       "       2, 1, 1, 1, 2, 1, 2, 1, 1, 1, 2, 0, 2, 0, 1, 1, 2, 1, 1, 2, 1, 2,\n",
       "       0, 0, 2, 2, 2, 0, 0, 1, 1, 2, 2, 1, 0, 2, 0, 1, 2, 0, 1, 0, 2, 2,\n",
       "       1, 2, 0, 0, 2, 0, 0, 2, 2, 0, 2, 0, 2, 0, 2, 2, 2, 2, 1, 0, 1, 2,\n",
       "       2, 1, 0, 1, 2, 2, 0, 2, 0, 1, 1, 2, 0, 1, 1, 0, 1, 0, 1, 0, 2, 2,\n",
       "       2, 0, 1, 0, 1, 1, 1, 2, 2, 1, 1, 1, 1, 2, 1, 2, 1, 0, 1, 1, 2, 1,\n",
       "       1, 2, 0, 2, 2, 0, 1, 1, 2, 0, 1, 0, 0, 1, 1, 2, 2, 2, 1, 1, 0, 1,\n",
       "       1, 2, 2, 1, 0, 1, 1, 0, 0, 1, 1, 1, 1, 1, 2, 2, 0, 0, 2, 1, 2, 0,\n",
       "       0, 0, 2, 1, 0, 0, 2, 2, 2, 0, 0, 0, 0, 2, 1, 0, 2, 0, 2, 1, 2, 2,\n",
       "       0, 2, 0, 1, 1, 2, 0, 2, 2, 0, 0, 0, 2, 2, 1, 2, 0, 1, 1, 0, 2, 1,\n",
       "       2, 2, 1, 1, 0, 0, 2, 2, 0, 0, 2, 0, 2, 1, 0, 0, 0, 0, 2, 0, 0, 0,\n",
       "       2, 0, 1, 1, 1, 0, 0, 1, 0, 2, 1, 2, 2, 0, 1, 1, 2, 1, 1, 2, 0, 1,\n",
       "       2, 0, 0, 0, 1, 1, 1, 2, 2, 1, 2, 2, 2, 0, 2, 0, 0, 2, 2, 1, 1, 2,\n",
       "       0, 1, 2, 1, 2, 2, 0, 1, 2, 0, 2, 0, 2, 1])"
      ]
     },
     "execution_count": 33,
     "metadata": {},
     "output_type": "execute_result"
    }
   ],
   "source": [
    "Y_test"
   ]
  },
  {
   "cell_type": "code",
   "execution_count": 34,
   "id": "ff112a00",
   "metadata": {},
   "outputs": [],
   "source": [
    "from sklearn.preprocessing import MinMaxScaler"
   ]
  },
  {
   "cell_type": "code",
   "execution_count": 35,
   "id": "1180338c",
   "metadata": {},
   "outputs": [],
   "source": [
    "norm_data=MinMaxScaler().fit_transform(X)"
   ]
  },
  {
   "cell_type": "code",
   "execution_count": 36,
   "id": "fa2c4562",
   "metadata": {},
   "outputs": [],
   "source": [
    "from sklearn.neural_network import MLPClassifier"
   ]
  },
  {
   "cell_type": "code",
   "execution_count": 37,
   "id": "4f6683de",
   "metadata": {},
   "outputs": [],
   "source": [
    "mlp=MLPClassifier(hidden_layer_sizes=(20,4), activation = 'relu', solver = 'adam', verbose=True)"
   ]
  },
  {
   "cell_type": "code",
   "execution_count": 38,
   "id": "79455d43",
   "metadata": {},
   "outputs": [
    {
     "name": "stdout",
     "output_type": "stream",
     "text": [
      "Iteration 1, loss = 2.34609064\n",
      "Iteration 2, loss = 2.15103872\n",
      "Iteration 3, loss = 1.96975808\n",
      "Iteration 4, loss = 1.80153526\n",
      "Iteration 5, loss = 1.65123951\n",
      "Iteration 6, loss = 1.51318232\n",
      "Iteration 7, loss = 1.39373256\n",
      "Iteration 8, loss = 1.28674347\n",
      "Iteration 9, loss = 1.19533200\n",
      "Iteration 10, loss = 1.11819469\n",
      "Iteration 11, loss = 1.05580540\n",
      "Iteration 12, loss = 1.00562689\n",
      "Iteration 13, loss = 0.96371677\n",
      "Iteration 14, loss = 0.93060441\n",
      "Iteration 15, loss = 0.90251586\n",
      "Iteration 16, loss = 0.87908696\n",
      "Iteration 17, loss = 0.85895767\n",
      "Iteration 18, loss = 0.84110463\n",
      "Iteration 19, loss = 0.82526103\n",
      "Iteration 20, loss = 0.81110009\n",
      "Iteration 21, loss = 0.79804292\n",
      "Iteration 22, loss = 0.78628313\n",
      "Iteration 23, loss = 0.77557499\n",
      "Iteration 24, loss = 0.76576014\n",
      "Iteration 25, loss = 0.75680623\n",
      "Iteration 26, loss = 0.74901821\n",
      "Iteration 27, loss = 0.74176931\n",
      "Iteration 28, loss = 0.73542252\n",
      "Iteration 29, loss = 0.72917774\n",
      "Iteration 30, loss = 0.72349341\n",
      "Iteration 31, loss = 0.71814273\n",
      "Iteration 32, loss = 0.71293726\n",
      "Iteration 33, loss = 0.70811201\n",
      "Iteration 34, loss = 0.70338704\n",
      "Iteration 35, loss = 0.69888965\n",
      "Iteration 36, loss = 0.69451236\n",
      "Iteration 37, loss = 0.69027105\n",
      "Iteration 38, loss = 0.68614823\n",
      "Iteration 39, loss = 0.68212819\n",
      "Iteration 40, loss = 0.67825933\n",
      "Iteration 41, loss = 0.67442104\n",
      "Iteration 42, loss = 0.67062439\n",
      "Iteration 43, loss = 0.66694683\n",
      "Iteration 44, loss = 0.66314056\n",
      "Iteration 45, loss = 0.65947517\n",
      "Iteration 46, loss = 0.65588374\n",
      "Iteration 47, loss = 0.65215660\n",
      "Iteration 48, loss = 0.64844157\n",
      "Iteration 49, loss = 0.64496995\n",
      "Iteration 50, loss = 0.64120235\n",
      "Iteration 51, loss = 0.63748260\n",
      "Iteration 52, loss = 0.63382186\n",
      "Iteration 53, loss = 0.63011312\n",
      "Iteration 54, loss = 0.62644124\n",
      "Iteration 55, loss = 0.62265293\n",
      "Iteration 56, loss = 0.61892304\n",
      "Iteration 57, loss = 0.61510557\n",
      "Iteration 58, loss = 0.61133123\n",
      "Iteration 59, loss = 0.60744818\n",
      "Iteration 60, loss = 0.60354957\n",
      "Iteration 61, loss = 0.59963608\n",
      "Iteration 62, loss = 0.59564248\n",
      "Iteration 63, loss = 0.59165618\n",
      "Iteration 64, loss = 0.58765407\n",
      "Iteration 65, loss = 0.58354255\n",
      "Iteration 66, loss = 0.57934394\n",
      "Iteration 67, loss = 0.57511818\n",
      "Iteration 68, loss = 0.57089484\n",
      "Iteration 69, loss = 0.56656834\n",
      "Iteration 70, loss = 0.56213564\n",
      "Iteration 71, loss = 0.55781448\n",
      "Iteration 72, loss = 0.55331566\n",
      "Iteration 73, loss = 0.54879650\n",
      "Iteration 74, loss = 0.54409422\n",
      "Iteration 75, loss = 0.53946794\n",
      "Iteration 76, loss = 0.53478963\n",
      "Iteration 77, loss = 0.52992658\n",
      "Iteration 78, loss = 0.52493428\n",
      "Iteration 79, loss = 0.52007550\n",
      "Iteration 80, loss = 0.51497244\n",
      "Iteration 81, loss = 0.50964514\n",
      "Iteration 82, loss = 0.50443325\n",
      "Iteration 83, loss = 0.49900892\n",
      "Iteration 84, loss = 0.49354498\n",
      "Iteration 85, loss = 0.48792405\n",
      "Iteration 86, loss = 0.48227236\n",
      "Iteration 87, loss = 0.47644236\n",
      "Iteration 88, loss = 0.47058010\n",
      "Iteration 89, loss = 0.46465203\n",
      "Iteration 90, loss = 0.45855949\n",
      "Iteration 91, loss = 0.45239129\n",
      "Iteration 92, loss = 0.44593251\n",
      "Iteration 93, loss = 0.43955165\n",
      "Iteration 94, loss = 0.43310729\n",
      "Iteration 95, loss = 0.42627697\n",
      "Iteration 96, loss = 0.41970233\n",
      "Iteration 97, loss = 0.41289901\n",
      "Iteration 98, loss = 0.40592427\n",
      "Iteration 99, loss = 0.39905042\n",
      "Iteration 100, loss = 0.39179600\n",
      "Iteration 101, loss = 0.38463107\n",
      "Iteration 102, loss = 0.37734459\n",
      "Iteration 103, loss = 0.37022120\n",
      "Iteration 104, loss = 0.36279617\n",
      "Iteration 105, loss = 0.35554427\n",
      "Iteration 106, loss = 0.34828575\n",
      "Iteration 107, loss = 0.34111283\n",
      "Iteration 108, loss = 0.33380781\n",
      "Iteration 109, loss = 0.32681028\n",
      "Iteration 110, loss = 0.31988073\n",
      "Iteration 111, loss = 0.31302321\n",
      "Iteration 112, loss = 0.30642063\n",
      "Iteration 113, loss = 0.30004278\n",
      "Iteration 114, loss = 0.29388381\n",
      "Iteration 115, loss = 0.28799856\n",
      "Iteration 116, loss = 0.28240507\n",
      "Iteration 117, loss = 0.27700331\n",
      "Iteration 118, loss = 0.27184928\n",
      "Iteration 119, loss = 0.26701688\n",
      "Iteration 120, loss = 0.26236419\n",
      "Iteration 121, loss = 0.25795915\n",
      "Iteration 122, loss = 0.25367830\n",
      "Iteration 123, loss = 0.24969539\n",
      "Iteration 124, loss = 0.24587756\n",
      "Iteration 125, loss = 0.24231769\n",
      "Iteration 126, loss = 0.23884744\n",
      "Iteration 127, loss = 0.23552676\n",
      "Iteration 128, loss = 0.23241380\n",
      "Iteration 129, loss = 0.22942903\n",
      "Iteration 130, loss = 0.22659972\n",
      "Iteration 131, loss = 0.22384291\n",
      "Iteration 132, loss = 0.22127551\n",
      "Iteration 133, loss = 0.21868942\n",
      "Iteration 134, loss = 0.21616287\n",
      "Iteration 135, loss = 0.21354953\n",
      "Iteration 136, loss = 0.21015071\n",
      "Iteration 137, loss = 0.20652455\n",
      "Iteration 138, loss = 0.20307724\n",
      "Iteration 139, loss = 0.19997209\n",
      "Iteration 140, loss = 0.19737012\n",
      "Iteration 141, loss = 0.19499128\n",
      "Iteration 142, loss = 0.19290463\n",
      "Iteration 143, loss = 0.19095231\n",
      "Iteration 144, loss = 0.18916492\n",
      "Iteration 145, loss = 0.18747775\n",
      "Iteration 146, loss = 0.18586949\n",
      "Iteration 147, loss = 0.18435431\n",
      "Iteration 148, loss = 0.18289288\n",
      "Iteration 149, loss = 0.18149564\n",
      "Iteration 150, loss = 0.18007990\n",
      "Iteration 151, loss = 0.17876750\n",
      "Iteration 152, loss = 0.17745884\n",
      "Iteration 153, loss = 0.17617465\n",
      "Iteration 154, loss = 0.17493720\n",
      "Iteration 155, loss = 0.17372111\n",
      "Iteration 156, loss = 0.17251412\n",
      "Iteration 157, loss = 0.17133680\n",
      "Iteration 158, loss = 0.17018907\n",
      "Iteration 159, loss = 0.16907254\n",
      "Iteration 160, loss = 0.16796617\n",
      "Iteration 161, loss = 0.16687278\n",
      "Iteration 162, loss = 0.16579790\n",
      "Iteration 163, loss = 0.16475860\n",
      "Iteration 164, loss = 0.16369775\n",
      "Iteration 165, loss = 0.16269618\n",
      "Iteration 166, loss = 0.16166230\n",
      "Iteration 167, loss = 0.16066293\n",
      "Iteration 168, loss = 0.15968986\n",
      "Iteration 169, loss = 0.15872818\n",
      "Iteration 170, loss = 0.15776551\n",
      "Iteration 171, loss = 0.15684466\n",
      "Iteration 172, loss = 0.15591883\n",
      "Iteration 173, loss = 0.15497353\n",
      "Iteration 174, loss = 0.15408563\n",
      "Iteration 175, loss = 0.15317141\n",
      "Iteration 176, loss = 0.15230530\n",
      "Iteration 177, loss = 0.15144139\n",
      "Iteration 178, loss = 0.15059937\n",
      "Iteration 179, loss = 0.14972939\n",
      "Iteration 180, loss = 0.14889183\n",
      "Iteration 181, loss = 0.14807759\n",
      "Iteration 182, loss = 0.14724004\n",
      "Iteration 183, loss = 0.14641893\n",
      "Iteration 184, loss = 0.14565754\n",
      "Iteration 185, loss = 0.14484196\n",
      "Iteration 186, loss = 0.14405087\n",
      "Iteration 187, loss = 0.14329770\n",
      "Iteration 188, loss = 0.14253829\n",
      "Iteration 189, loss = 0.14177677\n",
      "Iteration 190, loss = 0.14101172\n",
      "Iteration 191, loss = 0.14025118\n",
      "Iteration 192, loss = 0.13951593\n",
      "Iteration 193, loss = 0.13878475\n",
      "Iteration 194, loss = 0.13804755\n",
      "Iteration 195, loss = 0.13733074\n",
      "Iteration 196, loss = 0.13662386\n",
      "Iteration 197, loss = 0.13591833\n",
      "Iteration 198, loss = 0.13519953\n",
      "Iteration 199, loss = 0.13450738\n",
      "Iteration 200, loss = 0.13381432\n"
     ]
    },
    {
     "name": "stderr",
     "output_type": "stream",
     "text": [
      "C:\\Users\\shery\\anaconda3\\lib\\site-packages\\sklearn\\neural_network\\_multilayer_perceptron.py:614: ConvergenceWarning: Stochastic Optimizer: Maximum iterations (200) reached and the optimization hasn't converged yet.\n",
      "  warnings.warn(\n"
     ]
    },
    {
     "data": {
      "text/plain": [
       "MLPClassifier(hidden_layer_sizes=(20, 4), verbose=True)"
      ]
     },
     "execution_count": 38,
     "metadata": {},
     "output_type": "execute_result"
    }
   ],
   "source": [
    "mlp.fit(X_train,Y_train)"
   ]
  },
  {
   "cell_type": "code",
   "execution_count": 39,
   "id": "ee18c0d5",
   "metadata": {},
   "outputs": [],
   "source": [
    "Y_pred_nn=mlp.predict(X_test)"
   ]
  },
  {
   "cell_type": "code",
   "execution_count": 40,
   "id": "81f78aee",
   "metadata": {},
   "outputs": [
    {
     "data": {
      "text/plain": [
       "array([0, 1, 0, 1, 2, 0, 1, 2, 2, 0, 2, 1, 1, 0, 2, 1, 2, 1, 1, 1, 0, 0,\n",
       "       2, 1, 1, 1, 2, 1, 2, 1, 1, 1, 2, 0, 2, 0, 1, 1, 2, 1, 1, 2, 1, 2,\n",
       "       0, 0, 2, 2, 2, 0, 0, 1, 1, 2, 2, 1, 0, 2, 0, 1, 2, 0, 1, 0, 2, 2,\n",
       "       1, 2, 0, 0, 2, 0, 0, 2, 2, 0, 2, 0, 2, 0, 2, 2, 2, 2, 1, 0, 1, 2,\n",
       "       2, 1, 0, 1, 2, 2, 0, 2, 0, 1, 1, 2, 0, 1, 1, 0, 1, 0, 1, 0, 2, 2,\n",
       "       2, 0, 1, 0, 1, 1, 1, 2, 2, 1, 1, 1, 1, 2, 1, 2, 1, 0, 1, 1, 2, 1,\n",
       "       1, 2, 0, 2, 2, 0, 1, 1, 2, 0, 1, 0, 0, 1, 1, 2, 2, 2, 1, 1, 0, 1,\n",
       "       1, 2, 2, 1, 0, 1, 1, 0, 0, 1, 1, 1, 1, 1, 2, 2, 0, 0, 2, 1, 2, 0,\n",
       "       0, 0, 2, 1, 0, 0, 2, 2, 2, 0, 0, 0, 0, 2, 1, 0, 2, 0, 2, 1, 2, 2,\n",
       "       0, 2, 0, 1, 1, 2, 0, 2, 2, 0, 0, 0, 2, 2, 1, 2, 0, 1, 1, 0, 2, 1,\n",
       "       2, 2, 1, 1, 0, 0, 2, 2, 0, 0, 2, 0, 2, 1, 0, 0, 0, 0, 2, 0, 0, 0,\n",
       "       2, 0, 1, 1, 1, 0, 0, 1, 0, 2, 1, 2, 2, 0, 1, 1, 2, 1, 1, 2, 0, 1,\n",
       "       2, 0, 0, 0, 1, 1, 1, 2, 2, 1, 2, 2, 2, 0, 2, 0, 0, 2, 2, 1, 1, 2,\n",
       "       0, 1, 2, 1, 2, 2, 0, 1, 2, 0, 2, 0, 2, 1])"
      ]
     },
     "execution_count": 40,
     "metadata": {},
     "output_type": "execute_result"
    }
   ],
   "source": [
    "Y_test"
   ]
  },
  {
   "cell_type": "code",
   "execution_count": 41,
   "id": "07a58400",
   "metadata": {},
   "outputs": [
    {
     "data": {
      "text/plain": [
       "array([0, 1, 0, 1, 2, 0, 1, 2, 2, 0, 2, 1, 1, 0, 2, 1, 2, 1, 1, 1, 0, 0,\n",
       "       2, 1, 1, 1, 2, 1, 2, 1, 1, 1, 2, 0, 2, 0, 1, 1, 2, 1, 1, 2, 1, 2,\n",
       "       0, 0, 2, 2, 2, 0, 0, 1, 1, 2, 2, 1, 0, 2, 0, 1, 2, 0, 1, 0, 2, 2,\n",
       "       1, 2, 0, 0, 2, 0, 0, 2, 2, 0, 2, 0, 2, 0, 2, 2, 2, 2, 1, 0, 1, 2,\n",
       "       2, 1, 0, 1, 2, 2, 0, 2, 0, 1, 1, 2, 0, 1, 1, 0, 1, 0, 1, 0, 2, 2,\n",
       "       1, 0, 1, 0, 1, 1, 1, 2, 2, 1, 1, 1, 1, 2, 1, 2, 1, 0, 1, 1, 2, 1,\n",
       "       1, 2, 0, 2, 2, 0, 1, 1, 2, 0, 1, 0, 0, 1, 1, 2, 2, 2, 1, 1, 0, 1,\n",
       "       1, 2, 2, 1, 0, 1, 1, 0, 0, 1, 1, 1, 1, 1, 2, 2, 0, 0, 2, 1, 2, 0,\n",
       "       0, 0, 2, 1, 0, 0, 2, 2, 2, 0, 0, 0, 0, 2, 1, 0, 2, 0, 2, 1, 2, 2,\n",
       "       0, 2, 0, 1, 1, 2, 0, 2, 2, 0, 0, 0, 2, 2, 1, 2, 0, 1, 1, 0, 1, 1,\n",
       "       2, 2, 1, 1, 0, 0, 2, 2, 0, 0, 2, 0, 2, 1, 0, 0, 0, 0, 2, 0, 0, 0,\n",
       "       2, 0, 1, 1, 1, 0, 0, 1, 0, 2, 1, 2, 2, 0, 1, 1, 2, 1, 1, 2, 0, 1,\n",
       "       2, 0, 0, 0, 1, 1, 1, 2, 2, 1, 2, 2, 2, 0, 2, 0, 0, 2, 2, 1, 1, 2,\n",
       "       0, 1, 2, 1, 2, 2, 0, 1, 2, 0, 2, 0, 2, 1])"
      ]
     },
     "execution_count": 41,
     "metadata": {},
     "output_type": "execute_result"
    }
   ],
   "source": [
    "Y_pred_nn"
   ]
  },
  {
   "cell_type": "code",
   "execution_count": 42,
   "id": "137e2aed",
   "metadata": {},
   "outputs": [],
   "source": [
    "from sklearn.metrics import accuracy_score"
   ]
  },
  {
   "cell_type": "code",
   "execution_count": 43,
   "id": "d67bb74d",
   "metadata": {},
   "outputs": [
    {
     "data": {
      "text/plain": [
       "0.9933333333333333"
      ]
     },
     "execution_count": 43,
     "metadata": {},
     "output_type": "execute_result"
    }
   ],
   "source": [
    "accuracy_score(Y_test,Y_pred_nn)"
   ]
  },
  {
   "cell_type": "code",
   "execution_count": 44,
   "id": "b9a9a5e0",
   "metadata": {},
   "outputs": [
    {
     "data": {
      "text/plain": [
       "0.9933333333333333"
      ]
     },
     "execution_count": 44,
     "metadata": {},
     "output_type": "execute_result"
    }
   ],
   "source": [
    "accuracy_score(Y_test,Y_pred)"
   ]
  }
 ],
 "metadata": {
  "kernelspec": {
   "display_name": "Python 3",
   "language": "python",
   "name": "python3"
  },
  "language_info": {
   "codemirror_mode": {
    "name": "ipython",
    "version": 3
   },
   "file_extension": ".py",
   "mimetype": "text/x-python",
   "name": "python",
   "nbconvert_exporter": "python",
   "pygments_lexer": "ipython3",
   "version": "3.9.5"
  }
 },
 "nbformat": 4,
 "nbformat_minor": 5
}
